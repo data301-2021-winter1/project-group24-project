{
 "cells": [
  {
   "cell_type": "code",
   "execution_count": 1,
   "metadata": {},
   "outputs": [],
   "source": [
    "import pandas as pd\n",
    "import numpy as np\n",
    "\n",
    "def unprocessed(csv_file):\n",
    "    df = pd.read_csv(csv_file)\n",
    "    return df\n",
    "\n",
    "def load_and_process(csv_file):\n",
    "    df = pd.read_csv(csv_file)\n",
    "     ##Loads and cleans data by removing redundancy, unused columns and null values\n",
    "    df1=(df.copy().drop([\"player_id\",\"nationality\",\"team\",\"potential\",\"Overall rating\"] , axis = 1) \n",
    "        .sort_values(\"overall\", ascending = False)\n",
    "        .reset_index(drop=True)\n",
    "        ) \n",
    "    \n",
    "    conditions = [\n",
    "    (df['overall'] >= 85),\n",
    "    (df['overall'] < 85) & (df['overall'] >=70),\n",
    "    (df['overall'] < 70)\n",
    "    ]\n",
    "    values = ['Gold', 'Silver', 'Bronze']\n",
    "    df2=(df1.copy())\n",
    "    df2['Rating'] = np.select(conditions, values)\n",
    "    \n",
    "    df3=(df2.copy().rename(columns={\"potential\": \"potential growth\"}))\n",
    "    return df3\n",
    "         "
   ]
  }
 ],
 "metadata": {
  "interpreter": {
   "hash": "aa84fda3a4a77689bc334c800b740be39007538b4102ed7300e39d2f973fd252"
  },
  "kernelspec": {
   "display_name": "Python 3.9.5 64-bit ('base': conda)",
   "name": "python3"
  },
  "language_info": {
   "codemirror_mode": {
    "name": "ipython",
    "version": 3
   },
   "file_extension": ".py",
   "mimetype": "text/x-python",
   "name": "python",
   "nbconvert_exporter": "python",
   "pygments_lexer": "ipython3",
   "version": "3.9.5"
  },
  "orig_nbformat": 4
 },
 "nbformat": 4,
 "nbformat_minor": 2
}
