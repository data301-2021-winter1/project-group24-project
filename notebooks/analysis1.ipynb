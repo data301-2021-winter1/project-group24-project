{
 "cells": [
  {
   "cell_type": "markdown",
   "metadata": {},
   "source": [
    "# Aditya Tripathi"
   ]
  },
  {
   "cell_type": "code",
   "execution_count": 13,
   "metadata": {},
   "outputs": [
    {
     "name": "stdout",
     "output_type": "stream",
     "text": [
      "   player_id               name nationality  position  overall  age  hits  \\\n",
      "0     158023       Lionel Messi   Argentina  ST|CF|RW       94   33   299   \n",
      "1      20801  Cristiano Ronaldo    Portugal     ST|LW       93   35   276   \n",
      "2     190871          Neymar Jr      Brazil    CAM|LW       92   28   186   \n",
      "\n",
      "   potential                  team  \n",
      "0         94         FC Barcelona   \n",
      "1         93             Juventus   \n",
      "2         92  Paris Saint-Germain   \n"
     ]
    }
   ],
   "source": [
    "import pandas as pd\n",
    "\n",
    "fifa_data = pd.read_csv('/Users/adityatripathi/Desktop/University/DATA_301/Project/project-group24-project/FIFA-21 Complete.csv' , delimiter = ';')\n",
    "\n",
    "print(fifa_data.head(3))\n"
   ]
  },
  {
   "cell_type": "markdown",
   "metadata": {},
   "source": [
    "## Research question/interests\n",
    "\n",
    "Briefly describe your research question or interests here."
   ]
  },
  {
   "cell_type": "code",
   "execution_count": 14,
   "metadata": {},
   "outputs": [],
   "source": [
    "#Import Libraries\n",
    "import pandas as pd\n",
    "import numpy as np\n",
    "import matplotlib.pylab as plt\n",
    "import seaborn as sns"
   ]
  },
  {
   "cell_type": "code",
   "execution_count": 15,
   "metadata": {},
   "outputs": [],
   "source": [
    "# Importing the data\n",
    "\n",
    "df = pd.read_csv('/Users/adityatripathi/Desktop/University/DATA_301/Project/project-group24-project/FIFA-21 Complete.csv'  , delimiter = ';')"
   ]
  },
  {
   "cell_type": "code",
   "execution_count": 16,
   "metadata": {},
   "outputs": [
    {
     "name": "stdout",
     "output_type": "stream",
     "text": [
      "<class 'pandas.core.frame.DataFrame'>\n",
      "RangeIndex: 17981 entries, 0 to 17980\n",
      "Data columns (total 9 columns):\n",
      " #   Column       Non-Null Count  Dtype \n",
      "---  ------       --------------  ----- \n",
      " 0   player_id    17981 non-null  int64 \n",
      " 1   name         17981 non-null  object\n",
      " 2   nationality  17981 non-null  object\n",
      " 3   position     17981 non-null  object\n",
      " 4   overall      17981 non-null  int64 \n",
      " 5   age          17981 non-null  int64 \n",
      " 6   hits         17981 non-null  int64 \n",
      " 7   potential    17981 non-null  int64 \n",
      " 8   team         17981 non-null  object\n",
      "dtypes: int64(5), object(4)\n",
      "memory usage: 1.2+ MB\n"
     ]
    },
    {
     "data": {
      "text/plain": [
       "Index(['player_id', 'name', 'nationality', 'position', 'overall', 'age',\n",
       "       'hits', 'potential', 'team'],\n",
       "      dtype='object')"
      ]
     },
     "execution_count": 16,
     "metadata": {},
     "output_type": "execute_result"
    }
   ],
   "source": [
    "# About the data\n",
    "\n",
    "df.info()\n",
    "\n",
    "df.shape # the dataset has 17981 rows and 9 columns\n",
    "\n",
    "df.head(3)\n",
    "\n",
    "df.columns"
   ]
  },
  {
   "cell_type": "code",
   "execution_count": 17,
   "metadata": {},
   "outputs": [
    {
     "name": "stdout",
     "output_type": "stream",
     "text": [
      "<class 'pandas.core.frame.DataFrame'>\n",
      "RangeIndex: 17981 entries, 0 to 17980\n",
      "Data columns (total 9 columns):\n",
      " #   Column       Non-Null Count  Dtype   \n",
      "---  ------       --------------  -----   \n",
      " 0   player_id    17981 non-null  int64   \n",
      " 1   name         17981 non-null  object  \n",
      " 2   nationality  17981 non-null  category\n",
      " 3   position     17981 non-null  category\n",
      " 4   overall      17981 non-null  int64   \n",
      " 5   age          17981 non-null  int64   \n",
      " 6   hits         17981 non-null  int64   \n",
      " 7   potential    17981 non-null  int64   \n",
      " 8   team         17981 non-null  category\n",
      "dtypes: category(3), int64(5), object(1)\n",
      "memory usage: 985.3+ KB\n"
     ]
    }
   ],
   "source": [
    "# Changing some data types to their appropriate types\n",
    "\n",
    "# Setting categorical data\n",
    "\n",
    "df['nationality'] = df['nationality'].astype('category')\n",
    "df['position'] = df['position'].astype('category')\n",
    "df['team'] = df['team'].astype('category')\n",
    "\n",
    "df.info()"
   ]
  },
  {
   "cell_type": "code",
   "execution_count": 18,
   "metadata": {},
   "outputs": [
    {
     "name": "stdout",
     "output_type": "stream",
     "text": [
      "<class 'pandas.core.frame.DataFrame'>\n",
      "RangeIndex: 17981 entries, 0 to 17980\n",
      "Data columns (total 9 columns):\n",
      " #   Column       Non-Null Count  Dtype   \n",
      "---  ------       --------------  -----   \n",
      " 0   player_id    17981 non-null  int64   \n",
      " 1   name         17981 non-null  object  \n",
      " 2   nationality  17981 non-null  category\n",
      " 3   position     17981 non-null  category\n",
      " 4   overall      17981 non-null  int64   \n",
      " 5   age          17981 non-null  int64   \n",
      " 6   hits         17981 non-null  int64   \n",
      " 7   potential    17981 non-null  int64   \n",
      " 8   team         17981 non-null  category\n",
      "dtypes: category(3), int64(5), object(1)\n",
      "memory usage: 985.3+ KB\n"
     ]
    }
   ],
   "source": [
    "# Changing some data types to their appropriate types\n",
    "\n",
    "# Setting categorical data\n",
    "\n",
    "df['nationality'] = df['nationality'].astype('category')\n",
    "df['position'] = df['position'].astype('category')\n",
    "df['team'] = df['team'].astype('category')\n",
    "\n",
    "df.info()"
   ]
  },
  {
   "cell_type": "code",
   "execution_count": 19,
   "metadata": {},
   "outputs": [
    {
     "name": "stdout",
     "output_type": "stream",
     "text": [
      "           player_id   overall       age      hits  potential\n",
      "player_id   1.000000 -0.392988 -0.726628 -0.043335   0.098938\n",
      "overall    -0.392988  1.000000  0.341995  0.378900   0.638915\n",
      "age        -0.726628  0.341995  1.000000 -0.073467  -0.374716\n",
      "hits       -0.043335  0.378900 -0.073467  1.000000   0.429509\n",
      "potential   0.098938  0.638915 -0.374716  0.429509   1.000000\n"
     ]
    }
   ],
   "source": [
    "# Finding the corellation between the variables\n",
    "\n",
    "# calculate correlation matrix\n",
    "corr = df.corr()# plot the heatmap\n",
    "\n",
    "print(corr)"
   ]
  },
  {
   "cell_type": "code",
   "execution_count": 20,
   "metadata": {},
   "outputs": [],
   "source": [
    "# Research question - How does the potential of a player effect the player's overall ratings?\n",
    "\n"
   ]
  },
  {
   "cell_type": "code",
   "execution_count": 21,
   "metadata": {},
   "outputs": [
    {
     "data": {
      "text/plain": [
       "<seaborn.axisgrid.FacetGrid at 0x7fb4083ee850>"
      ]
     },
     "execution_count": 21,
     "metadata": {},
     "output_type": "execute_result"
    },
    {
     "data": {
      "image/png": "[encoded data removed]",
      "text/plain": [
       "<Figure size 360x360 with 1 Axes>"
      ]
     },
     "metadata": {
      "needs_background": "light"
     },
     "output_type": "display_data"
    }
   ],
   "source": [
    "sns.displot(df['potential'], kde = False, bins=20)\n",
    "\n",
    "# Most of the players have a potential in the range of 65 to 80"
   ]
  },
  {
   "cell_type": "code",
   "execution_count": 22,
   "metadata": {},
   "outputs": [
    {
     "data": {
      "text/plain": [
       "<seaborn.axisgrid.FacetGrid at 0x7fb42a173bb0>"
      ]
     },
     "execution_count": 22,
     "metadata": {},
     "output_type": "execute_result"
    },
    {
     "data": {
      "image/png": "[encoded data removed]",
      "text/plain": [
       "<Figure size 360x360 with 1 Axes>"
      ]
     },
     "metadata": {
      "needs_background": "light"
     },
     "output_type": "display_data"
    }
   ],
   "source": [
    "sns.displot(df['overall'], kde = False, bins=20)"
   ]
  },
  {
   "cell_type": "code",
   "execution_count": 23,
   "metadata": {},
   "outputs": [
    {
     "data": {
      "text/plain": [
       "<seaborn.axisgrid.JointGrid at 0x7fb418c12910>"
      ]
     },
     "execution_count": 23,
     "metadata": {},
     "output_type": "execute_result"
    },
    {
     "data": {
      "image/png": "[encoded data removed]",
      "text/plain": [
       "<Figure size 432x432 with 3 Axes>"
      ]
     },
     "metadata": {
      "needs_background": "light"
     },
     "output_type": "display_data"
    }
   ],
   "source": [
    "sns.jointplot(x='potential', y='overall', data=df, kind='reg')"
   ]
  },
  {
   "cell_type": "code",
   "execution_count": 24,
   "metadata": {},
   "outputs": [],
   "source": [
    "# The chart shows us that with potential the overall increases as well and the two variables have a positive relationship"
   ]
  }
 ],
 "metadata": {
  "interpreter": {
   "hash": "3d597f4c481aa0f25dceb95d2a0067e73c0966dcbd003d741d821a7208527ecf"
  },
  "kernelspec": {
   "display_name": "Python 3.9.5 64-bit ('base': conda)",
   "name": "python3"
  },
  "language_info": {
   "codemirror_mode": {
    "name": "ipython",
    "version": 3
   },
   "file_extension": ".py",
   "mimetype": "text/x-python",
   "name": "python",
   "nbconvert_exporter": "python",
   "pygments_lexer": "ipython3",
   "version": "3.9.5"
  }
 },
 "nbformat": 4,
 "nbformat_minor": 4
}
