{
 "cells": [
  {
   "cell_type": "markdown",
   "metadata": {},
   "source": [
    "# Sam Garg"
   ]
  },
  {
   "cell_type": "code",
   "execution_count": 7,
   "metadata": {},
   "outputs": [
    {
     "name": "stdout",
     "output_type": "stream",
     "text": [
      "   player_id               name  nationality  position  overall  age  hits  \\\n",
      "0     158023       Lionel Messi    Argentina  ST|CF|RW       94   33   299   \n",
      "1      20801  Cristiano Ronaldo     Portugal     ST|LW       93   35   276   \n",
      "2     190871          Neymar Jr       Brazil    CAM|LW       92   28   186   \n",
      "3     203376    Virgil van Dijk  Netherlands        CB       91   29   127   \n",
      "4     200389          Jan Oblak     Slovenia        GK       91   27    47   \n",
      "\n",
      "   potential                  team  \n",
      "0         94         FC Barcelona   \n",
      "1         93             Juventus   \n",
      "2         92  Paris Saint-Germain   \n",
      "3         92            Liverpool   \n",
      "4         93      Atlético Madrid   \n"
     ]
    }
   ],
   "source": [
    "import pandas as pd\n",
    "\n",
    "FIFA2021 = pd.read_csv('/Users/sambhavgarg/Desktop/DATA301/project-group24-project/FIFA-21 Complete.csv' , delimiter=';')\n",
    "print(FIFA2021.head(5))"
   ]
  },
  {
   "cell_type": "markdown",
   "metadata": {},
   "source": [
    "## Research question/interests\n",
    "\n",
    "Briefly describe your research question or interests here."
   ]
  }
 ],
 "metadata": {
  "interpreter": {
   "hash": "aa84fda3a4a77689bc334c800b740be39007538b4102ed7300e39d2f973fd252"
  },
  "kernelspec": {
   "display_name": "Python 3.9.5 64-bit ('base': conda)",
   "name": "python3"
  },
  "language_info": {
   "codemirror_mode": {
    "name": "ipython",
    "version": 3
   },
   "file_extension": ".py",
   "mimetype": "text/x-python",
   "name": "python",
   "nbconvert_exporter": "python",
   "pygments_lexer": "ipython3",
   "version": "3.9.5"
  },
  "orig_nbformat": 4
 },
 "nbformat": 4,
 "nbformat_minor": 2
}
