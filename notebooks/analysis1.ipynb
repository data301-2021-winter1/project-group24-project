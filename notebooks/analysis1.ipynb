{
 "cells": [
  {
   "cell_type": "markdown",
   "metadata": {},
   "source": [
    "# Aditya Tripathi"
   ]
  },
  {
   "cell_type": "code",
   "execution_count": 7,
   "metadata": {},
   "outputs": [
    {
     "name": "stdout",
     "output_type": "stream",
     "text": [
      "   player_id               name nationality  position  overall  age  hits  \\\n",
      "0     158023       Lionel Messi   Argentina  ST|CF|RW       94   33   299   \n",
      "1      20801  Cristiano Ronaldo    Portugal     ST|LW       93   35   276   \n",
      "2     190871          Neymar Jr      Brazil    CAM|LW       92   28   186   \n",
      "\n",
      "   potential                  team  \n",
      "0         94         FC Barcelona   \n",
      "1         93             Juventus   \n",
      "2         92  Paris Saint-Germain   \n"
     ]
    }
   ],
   "source": [
    "import pandas as pd\n",
    "\n",
    "fifa_data = pd.read_csv('/Users/adityatripathi/Desktop/University/DATA_301/Project/project-group24-project/FIFA-21 Complete.csv' , delimiter = ';')\n",
    "\n",
    "print(fifa_data.head(3))\n"
   ]
  },
  {
   "cell_type": "markdown",
   "metadata": {},
   "source": [
    "## Research question/interests\n",
    "\n",
    "Briefly describe your research question or interests here."
   ]
  }
 ],
 "metadata": {
  "interpreter": {
   "hash": "3d597f4c481aa0f25dceb95d2a0067e73c0966dcbd003d741d821a7208527ecf"
  },
  "kernelspec": {
   "display_name": "Python 3 (ipykernel)",
   "language": "python",
   "name": "python3"
  },
  "language_info": {
   "codemirror_mode": {
    "name": "ipython",
    "version": 3
   },
   "file_extension": ".py",
   "mimetype": "text/x-python",
   "name": "python",
   "nbconvert_exporter": "python",
   "pygments_lexer": "ipython3",
   "version": "3.9.5"
  }
 },
 "nbformat": 4,
 "nbformat_minor": 4
}
